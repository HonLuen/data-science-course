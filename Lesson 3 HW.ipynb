{
 "cells": [
  {
   "cell_type": "markdown",
   "id": "94386e0b-6148-4097-af59-3e4776c07543",
   "metadata": {
    "id": "7_Exl_1VUcY5"
   },
   "source": [
    "# HW1\n"
   ]
  },
  {
   "cell_type": "markdown",
   "id": "9f20f087-2f2c-4acf-82cc-c6f5a0156315",
   "metadata": {
    "id": "eDzoqI7mUcY6",
    "tags": []
   },
   "source": [
    "write a function which input list with following propeteries\n",
    "- all elements are positive integer \n",
    "- all elements exist twice except one\n",
    "e.g [1,4,6,7,5,4,6,1,7] -> 5\n",
    "and output the single occured element "
   ]
  },
  {
   "cell_type": "code",
   "execution_count": 3,
   "id": "dcd8194e-6b65-421c-8b56-f8f24152a2eb",
   "metadata": {
    "id": "X3-cwELVPqX3"
   },
   "outputs": [],
   "source": [
    "# there are many ways to implement this\n",
    "# what is the smarter way to solve"
   ]
  },
  {
   "cell_type": "code",
   "execution_count": 4,
   "id": "0e3923bb-7a24-4595-999b-9cf7a74a6f12",
   "metadata": {},
   "outputs": [
    {
     "name": "stdout",
     "output_type": "stream",
     "text": [
      "0 1 2 3 4 5 6 7 8 9 10 "
     ]
    }
   ],
   "source": [
    "#all elements are positive integer\n",
    "start, end = -10, 10\n",
    "for num in range(start, end + 1):\n",
    "    if num >= 0:\n",
    "        print(num, end = \" \")"
   ]
  },
  {
   "cell_type": "code",
   "execution_count": 5,
   "id": "26f65d15-434b-4010-973e-781f099e19ea",
   "metadata": {},
   "outputs": [],
   "source": [
    "# all elements exist twice expect one \n",
    "l = ('1,4,6,7,5,4,6,1,7')"
   ]
  },
  {
   "cell_type": "code",
   "execution_count": 6,
   "id": "54832763-edc3-4d54-be86-dd34ae4c3009",
   "metadata": {},
   "outputs": [
    {
     "data": {
      "text/plain": [
       "1"
      ]
     },
     "execution_count": 6,
     "metadata": {},
     "output_type": "execute_result"
    }
   ],
   "source": [
    "l.count('5')"
   ]
  }
 ],
 "metadata": {
  "kernelspec": {
   "display_name": "Python 3 (ipykernel)",
   "language": "python",
   "name": "python3"
  },
  "language_info": {
   "codemirror_mode": {
    "name": "ipython",
    "version": 3
   },
   "file_extension": ".py",
   "mimetype": "text/x-python",
   "name": "python",
   "nbconvert_exporter": "python",
   "pygments_lexer": "ipython3",
   "version": "3.10.9"
  }
 },
 "nbformat": 4,
 "nbformat_minor": 5
}
