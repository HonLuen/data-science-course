{
 "cells": [
  {
   "cell_type": "code",
   "execution_count": 1,
   "id": "f07fb436-45ca-410f-a116-8d8555064c5e",
   "metadata": {},
   "outputs": [
    {
     "name": "stdout",
     "output_type": "stream",
     "text": [
      "129\n"
     ]
    }
   ],
   "source": [
    "print(2**3 + (5 + 6)**(1 + 1))"
   ]
  },
  {
   "cell_type": "code",
   "execution_count": 8,
   "id": "015796ae-7bff-4858-a723-229783b8b0e8",
   "metadata": {},
   "outputs": [
    {
     "ename": "SyntaxError",
     "evalue": "invalid syntax (2208864606.py, line 7)",
     "output_type": "error",
     "traceback": [
      "\u001b[0;36m  Cell \u001b[0;32mIn[8], line 7\u001b[0;36m\u001b[0m\n\u001b[0;31m    l + = 1\u001b[0m\n\u001b[0m        ^\u001b[0m\n\u001b[0;31mSyntaxError\u001b[0m\u001b[0;31m:\u001b[0m invalid syntax\n"
     ]
    }
   ],
   "source": [
    "i = 1\n",
    "while True:\n",
    "    if i % 3 == 0:\n",
    "        break\n",
    "    print(i)\n",
    "\n",
    "    l + = 1"
   ]
  },
  {
   "cell_type": "code",
   "execution_count": 9,
   "id": "42df7ed3-53ec-4541-b504-64be627ea62f",
   "metadata": {},
   "outputs": [
    {
     "name": "stdout",
     "output_type": "stream",
     "text": [
      "a "
     ]
    }
   ],
   "source": [
    "x = 'abcdef'\n",
    "i = \"a\"\n",
    "while i in x:\n",
    "    x = x[1:]\n",
    "    print (i, end = \" \")"
   ]
  },
  {
   "cell_type": "code",
   "execution_count": 13,
   "id": "0ad6827c-69a7-4375-86c9-c7b3f08fb6f5",
   "metadata": {
    "tags": []
   },
   "outputs": [
    {
     "name": "stdout",
     "output_type": "stream",
     "text": [
      "5\n"
     ]
    }
   ],
   "source": [
    "def print_fun(a):\n",
    "    print(a)\n",
    "\n",
    "print_fun(5)"
   ]
  },
  {
   "cell_type": "code",
   "execution_count": 53,
   "id": "6e984769-8f7f-42ba-9636-0dfa21086281",
   "metadata": {
    "collapsed": true,
    "jupyter": {
     "outputs_hidden": true
    },
    "tags": []
   },
   "outputs": [
    {
     "ename": "IndentationError",
     "evalue": "unexpected indent (3095142302.py, line 8)",
     "output_type": "error",
     "traceback": [
      "\u001b[0;36m  Cell \u001b[0;32mIn[53], line 8\u001b[0;36m\u001b[0m\n\u001b[0;31m    while ([player_wins, computer_wins]) < 2:\u001b[0m\n\u001b[0m    ^\u001b[0m\n\u001b[0;31mIndentationError\u001b[0m\u001b[0;31m:\u001b[0m unexpected indent\n"
     ]
    }
   ],
   "source": [
    "import random\n",
    "\n",
    "options = (\"rock\", \"paper\", \"scissors\")\n",
    "player_wins = 0\n",
    "computer_wins = 0\n",
    "games_played = 0\n",
    "\n",
    "while ([player_wins, computer_wins]) < 2:\n",
    "    \n",
    "\n",
    "    while True:\n",
    "\n",
    "    player = None\n",
    "    computer = random.choice(options)\n",
    "\n",
    "    while player not in options:\n",
    "        player = input(\"Enter a choice (rock, paper, scissors): \")\n",
    "\n",
    "    print(f\"player: {player}\")\n",
    "    print(f\"computer: {computer}\")\n",
    "\n",
    "    if player == computer:\n",
    "        print(\"Tie!\")\n",
    "    elif player == \"rock\" and computer == \"scissors\":\n",
    "        print(\" Player Wins!\")\n",
    "    elif player == \"scissors\" and computer == \"paper\":\n",
    "        print(\"Win!\")\n",
    "    elif player == \"paper\" and computer == \"rock\":\n",
    "        print(\"Win!\")\n",
    "    else:\n",
    "        print(\"Lose!\")\n",
    "        \n",
    "rematch = input(\"Rematch? y/n: \")\n"
   ]
  },
  {
   "cell_type": "code",
   "execution_count": 44,
   "id": "c472032c-4e78-4860-b83b-eb1535857b99",
   "metadata": {},
   "outputs": [
    {
     "ename": "SyntaxError",
     "evalue": "invalid syntax (1102136943.py, line 1)",
     "output_type": "error",
     "traceback": [
      "\u001b[0;36m  Cell \u001b[0;32mIn[44], line 1\u001b[0;36m\u001b[0m\n\u001b[0;31m    def\u001b[0m\n\u001b[0m       ^\u001b[0m\n\u001b[0;31mSyntaxError\u001b[0m\u001b[0;31m:\u001b[0m invalid syntax\n"
     ]
    }
   ],
   "source": [
    "def"
   ]
  },
  {
   "cell_type": "raw",
   "id": "cbe82928-391e-4523-8952-197c4b89a044",
   "metadata": {},
   "source": []
  },
  {
   "cell_type": "code",
   "execution_count": 86,
   "id": "24cbfe4b-0c5c-429d-af90-28ba9de9147f",
   "metadata": {},
   "outputs": [
    {
     "ename": "IndentationError",
     "evalue": "unexpected indent (3732098912.py, line 20)",
     "output_type": "error",
     "traceback": [
      "\u001b[0;36m  Cell \u001b[0;32mIn[86], line 20\u001b[0;36m\u001b[0m\n\u001b[0;31m    if player == computer:\u001b[0m\n\u001b[0m    ^\u001b[0m\n\u001b[0;31mIndentationError\u001b[0m\u001b[0;31m:\u001b[0m unexpected indent\n"
     ]
    }
   ],
   "source": [
    "import random\n",
    "\n",
    "options = (\"rock\", \"paper\", \"scissors\")\n",
    "player_wins = 0\n",
    "computer_wins = 0\n",
    "turns = (3)\n",
    "\n",
    "nessecary_wins = int(turns/2)\n",
    "\n",
    "while True:\n",
    "    player = None\n",
    "    computer = random.choice(options)\n",
    "\n",
    "    while player not in options:\n",
    "        player = input(\"Enter a choice (rock, paper, scissors): \")\n",
    "\n",
    "    print(f\"player: {player}\")\n",
    "    print(f\"computer: {computer}\")\n",
    "        \n",
    "        if player == computer:\n",
    "            print(\"Tie!\")\n",
    "        elif player == \"rock\" and computer == \"scissors\":\n",
    "            print(\"Player Wins!\")\n",
    "            player_wins += 1\n",
    "        elif player == \"rock\" and computer == \"paper\":\n",
    "            print(\"Computer Wins!\")\n",
    "            computer_wins += 1\n",
    "        elif player == \"scissors\" and computer == \"paper\":\n",
    "            print(\"Player Wins!\")\n",
    "            player_wins += 1\n",
    "        elif player == \"scissors\" and computer == \"rock\":\n",
    "            print(\"Computer Wins!\")\n",
    "            computer_wins +=1\n",
    "        elif player == \"paper\" and computer == \"rock\":\n",
    "            print(\"Player Wins!\")\n",
    "            player_wins += 1\n",
    "        elif player == \"paper\" and computer == \"scissors\":\n",
    "            print(\"Computer Wins!\")\n",
    "            computer_wins += 1\n",
    "            \n",
    "        if player_wins == nessecary_wins or computer_wins == nessecary_wins:\n",
    "            break\n",
    "            \n",
    "    if player_wins > computer_wins:\n",
    "        print(\"You win!\")\n",
    "    else:\n",
    "        print(\"Computer wins!\")"
   ]
  },
  {
   "cell_type": "raw",
   "id": "d0c6d2a0-aafb-4d10-a006-578560e691d2",
   "metadata": {},
   "source": [
    "# Wayne's Version\n",
    "\n"
   ]
  }
 ],
 "metadata": {
  "kernelspec": {
   "display_name": "Python 3 (ipykernel)",
   "language": "python",
   "name": "python3"
  },
  "language_info": {
   "codemirror_mode": {
    "name": "ipython",
    "version": 3
   },
   "file_extension": ".py",
   "mimetype": "text/x-python",
   "name": "python",
   "nbconvert_exporter": "python",
   "pygments_lexer": "ipython3",
   "version": "3.10.9"
  }
 },
 "nbformat": 4,
 "nbformat_minor": 5
}
